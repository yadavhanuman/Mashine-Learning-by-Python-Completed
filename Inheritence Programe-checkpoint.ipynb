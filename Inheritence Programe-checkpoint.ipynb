{
 "cells": [
  {
   "cell_type": "markdown",
   "id": "47f74804",
   "metadata": {},
   "source": [
    "# Inheritance Programe\n"
   ]
  },
  {
   "cell_type": "code",
   "execution_count": 4,
   "id": "b0c862e5",
   "metadata": {},
   "outputs": [
    {
     "name": "stdout",
     "output_type": "stream",
     "text": [
      "my name is rahul\n",
      "sakshi\n"
     ]
    }
   ],
   "source": [
    "class parent():\n",
    "    def a(self):\n",
    "        print('my name is rahul')\n",
    "    def b(self):\n",
    "        print('my name is ashish')\n",
    "class child(parent):\n",
    "    def c(self):\n",
    "        print('richa')\n",
    "    def d(self):\n",
    "        print('sakshi')\n",
    "        \n",
    "obj = child()\n",
    "obj.a()\n",
    "obj.d()"
   ]
  },
  {
   "cell_type": "code",
   "execution_count": null,
   "id": "645c6b28",
   "metadata": {},
   "outputs": [],
   "source": []
  },
  {
   "cell_type": "code",
   "execution_count": null,
   "id": "092a5ac7",
   "metadata": {},
   "outputs": [],
   "source": []
  },
  {
   "cell_type": "code",
   "execution_count": null,
   "id": "4fe0809c",
   "metadata": {},
   "outputs": [],
   "source": []
  },
  {
   "cell_type": "code",
   "execution_count": null,
   "id": "9244253a",
   "metadata": {},
   "outputs": [],
   "source": []
  },
  {
   "cell_type": "code",
   "execution_count": null,
   "id": "51381018",
   "metadata": {},
   "outputs": [],
   "source": []
  }
 ],
 "metadata": {
  "kernelspec": {
   "display_name": "Python 3 (ipykernel)",
   "language": "python",
   "name": "python3"
  },
  "language_info": {
   "codemirror_mode": {
    "name": "ipython",
    "version": 3
   },
   "file_extension": ".py",
   "mimetype": "text/x-python",
   "name": "python",
   "nbconvert_exporter": "python",
   "pygments_lexer": "ipython3",
   "version": "3.11.4"
  }
 },
 "nbformat": 4,
 "nbformat_minor": 5
}
